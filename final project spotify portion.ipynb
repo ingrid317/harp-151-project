{
 "cells": [
  {
   "cell_type": "code",
   "execution_count": 1,
   "id": "c5d10c96",
   "metadata": {},
   "outputs": [
    {
     "name": "stdout",
     "output_type": "stream",
     "text": [
      "Requirement already satisfied: spotipy in c:\\users\\slt26\\anaconda3\\lib\\site-packages (2.23.0)\n",
      "Requirement already satisfied: redis>=3.5.3 in c:\\users\\slt26\\anaconda3\\lib\\site-packages (from spotipy) (4.5.4)\n",
      "Requirement already satisfied: six>=1.15.0 in c:\\users\\slt26\\anaconda3\\lib\\site-packages (from spotipy) (1.16.0)\n",
      "Requirement already satisfied: requests>=2.25.0 in c:\\users\\slt26\\anaconda3\\lib\\site-packages (from spotipy) (2.27.1)\n",
      "Requirement already satisfied: urllib3>=1.26.0 in c:\\users\\slt26\\anaconda3\\lib\\site-packages (from spotipy) (1.26.9)\n",
      "Requirement already satisfied: async-timeout>=4.0.2 in c:\\users\\slt26\\anaconda3\\lib\\site-packages (from redis>=3.5.3->spotipy) (4.0.2)\n",
      "Requirement already satisfied: idna<4,>=2.5 in c:\\users\\slt26\\anaconda3\\lib\\site-packages (from requests>=2.25.0->spotipy) (3.3)\n",
      "Requirement already satisfied: certifi>=2017.4.17 in c:\\users\\slt26\\anaconda3\\lib\\site-packages (from requests>=2.25.0->spotipy) (2021.10.8)\n",
      "Requirement already satisfied: charset-normalizer~=2.0.0 in c:\\users\\slt26\\anaconda3\\lib\\site-packages (from requests>=2.25.0->spotipy) (2.0.4)\n"
     ]
    }
   ],
   "source": [
    "!pip install spotipy\n",
    "\n",
    "import spotipy\n",
    "import sys\n",
    "from spotipy.oauth2 import SpotifyClientCredentials"
   ]
  },
  {
   "cell_type": "code",
   "execution_count": null,
   "id": "fc162ff7",
   "metadata": {},
   "outputs": [],
   "source": [
    "playlist_id = \"6iGHel3ABNWuHU6253hyXq\"\n",
    "\n",
    "spotify = spotipy.Spotify(client_credentials_manager=SpotifyClientCredentials(client_id=\"e127cc9c2d334beeb4de981ce039c16e\", client_secret=\"d4b15e9693c84333ae6a8d172fc04753\"))\n",
    "\n",
    "results = spotify.playlist_items(playlist_id, fields=None, limit=100, offset=0, market=None, additional_types=('track', 'episode'))\n",
    "\n",
    "items = results[\"items\"]\n",
    "track = items[0][\"track\"]\n",
    "\n",
    "playlist = []\n",
    "\n",
    "for i in items:\n",
    "    dict = {}\n",
    "    \n",
    "    name = i[\"track\"][\"name\"]\n",
    "    dict[\"song\"] = name\n",
    "    \n",
    "    artists = i[\"track\"][\"artists\"]\n",
    "    dict[\"artist\"] = []\n",
    "    for i in artists:\n",
    "        artist = i[\"name\"].lower()\n",
    "        dict[\"artist\"].append(artist)\n",
    "        \n",
    "    playlist.append(dict)\n",
    "    \n",
    "print(playlist)"
   ]
  }
 ],
 "metadata": {
  "kernelspec": {
   "display_name": "Python 3 (ipykernel)",
   "language": "python",
   "name": "python3"
  },
  "language_info": {
   "codemirror_mode": {
    "name": "ipython",
    "version": 3
   },
   "file_extension": ".py",
   "mimetype": "text/x-python",
   "name": "python",
   "nbconvert_exporter": "python",
   "pygments_lexer": "ipython3",
   "version": "3.9.12"
  }
 },
 "nbformat": 4,
 "nbformat_minor": 5
}
