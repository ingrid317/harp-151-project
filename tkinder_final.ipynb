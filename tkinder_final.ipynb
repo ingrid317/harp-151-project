{
 "cells": [
  {
   "cell_type": "code",
   "execution_count": 13,
   "id": "c2d729f1",
   "metadata": {},
   "outputs": [],
   "source": [
    "import requests\n",
    "import json\n",
    "import random\n",
    "from tkinter import *\n",
    "\n",
    "\n",
    "root  = Tk()\n",
    "root.geometry(\"500x500\")\n",
    "myLabel_1 = Label(root,text=\"Welcome!!, enter your favourite beats and keys,We will genegrate the song it fits\").pack()\n",
    "q\n",
    "Beats = StringVar()\n",
    "Keys = StringVar()\n",
    "\n",
    "def generate():\n",
    "    global Beats\n",
    "    global Keys\n",
    "    \n",
    "    input_beats = Beats.get()\n",
    "    input_keys = Keys.get()\n",
    "    generating = Label(root,text = \"We are generating the song it fits\").pack\n",
    "    Beats.set(\"\")\n",
    "    Keys.set(\"\")\n",
    "    \n",
    "    \n",
    "    \n",
    "label_beats = Label(root,text=\"Beats\").pack()\n",
    "entry_beats = Entry(root,textvariable = Beats).pack()\n",
    "label_keys = Label(root,text=\"Keys\").pack()\n",
    "entry_keys = Entry(root,textvariable = Keys).pack()\n",
    "\n",
    "\n",
    "\n",
    "\n",
    "generate_buttom = Button(root,text=\"Starting to Generate\",command = generate).pack()\n",
    "\n",
    "\n",
    "root.mainloop()\n",
    "\n"
   ]
  },
  {
   "cell_type": "markdown",
   "id": "25d35832",
   "metadata": {},
   "source": [
    "\n",
    "800x800\n",
    "input\n",
    "beats per min\n",
    "key\n",
    "output\n",
    "artist name tempo"
   ]
  },
  {
   "cell_type": "code",
   "execution_count": null,
   "id": "37f72bc1",
   "metadata": {},
   "outputs": [],
   "source": [
    "playlist_id = \"6iGHel3ABNWuHU6253hyXq\"\n",
    "\n",
    "spotify = spotipy.Spotify(client_credentials_manager=SpotifyClientCredentials(client_id=\"e127cc9c2d334beeb4de981ce039c16e\", client_secret=\"d4b15e9693c84333ae6a8d172fc04753\"))\n",
    "\n",
    "results = spotify.playlist_items(playlist_id, fields=None, limit=100, offset=0, market=None, additional_types=('track', 'episode'))\n",
    "\n",
    "items = results[\"items\"]\n",
    "track = items[0][\"track\"]\n",
    "\n",
    "for i in items:\n",
    "    name = i[\"track\"][\"name\"]\n",
    "    pprint(f\"song: {name}\")\n",
    "\n",
    "    artists = i[\"track\"][\"artists\"]\n",
    "    for i in artists:\n",
    "        artist = i[\"name\"]\n",
    "        print(f\"artist: {artist}\")\n",
    "        \n",
    "\n",
    "!pip install spotipy\n",
    "\n",
    "import spotipy\n",
    "import sys\n",
    "from spotipy.oauth2 import SpotifyClientCredentials"
   ]
  }
 ],
 "metadata": {
  "kernelspec": {
   "display_name": "Python 3 (ipykernel)",
   "language": "python",
   "name": "python3"
  },
  "language_info": {
   "codemirror_mode": {
    "name": "ipython",
    "version": 3
   },
   "file_extension": ".py",
   "mimetype": "text/x-python",
   "name": "python",
   "nbconvert_exporter": "python",
   "pygments_lexer": "ipython3",
   "version": "3.9.12"
  }
 },
 "nbformat": 4,
 "nbformat_minor": 5
}
