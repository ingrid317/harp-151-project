{
 "cells": [
  {
   "cell_type": "code",
   "execution_count": 1,
   "id": "55aed483",
   "metadata": {},
   "outputs": [],
   "source": [
    "import requests\n",
    "import json\n",
    "from pprint import pprint\n",
    "from bs4 import BeautifulSoup"
   ]
  },
  {
   "cell_type": "code",
   "execution_count": 6,
   "id": "f86b2abf",
   "metadata": {},
   "outputs": [
    {
     "name": "stdout",
     "output_type": "stream",
     "text": [
      "Empire State Of Mind\n",
      "G♯/A♭\n",
      "174\n",
      "Girlfriend\n",
      "G\n",
      "164\n"
     ]
    },
    {
     "ename": "AttributeError",
     "evalue": "'NoneType' object has no attribute 'text'",
     "output_type": "error",
     "traceback": [
      "\u001b[1;31m---------------------------------------------------------------------------\u001b[0m",
      "\u001b[1;31mAttributeError\u001b[0m                            Traceback (most recent call last)",
      "Input \u001b[1;32mIn [6]\u001b[0m, in \u001b[0;36m<cell line: 4>\u001b[1;34m()\u001b[0m\n\u001b[0;32m      8\u001b[0m source \u001b[38;5;241m=\u001b[39m requests\u001b[38;5;241m.\u001b[39mget(\u001b[38;5;124mf\u001b[39m\u001b[38;5;124m\"\u001b[39m\u001b[38;5;124mhttps://songbpm.com/@\u001b[39m\u001b[38;5;132;01m{\u001b[39;00martist\u001b[38;5;132;01m}\u001b[39;00m\u001b[38;5;124m/\u001b[39m\u001b[38;5;132;01m{\u001b[39;00msong\u001b[38;5;132;01m}\u001b[39;00m\u001b[38;5;124m\"\u001b[39m)\u001b[38;5;241m.\u001b[39mtext\n\u001b[0;32m      9\u001b[0m soup \u001b[38;5;241m=\u001b[39m BeautifulSoup(source, \u001b[38;5;124m\"\u001b[39m\u001b[38;5;124mlxml\u001b[39m\u001b[38;5;124m\"\u001b[39m)\n\u001b[1;32m---> 11\u001b[0m name \u001b[38;5;241m=\u001b[39m \u001b[43msoup\u001b[49m\u001b[38;5;241;43m.\u001b[39;49m\u001b[43mfind\u001b[49m\u001b[43m(\u001b[49m\u001b[38;5;124;43m\"\u001b[39;49m\u001b[38;5;124;43mh1\u001b[39;49m\u001b[38;5;124;43m\"\u001b[39;49m\u001b[43m,\u001b[49m\u001b[43m \u001b[49m\u001b[43mclass_\u001b[49m\u001b[38;5;241;43m=\u001b[39;49m\u001b[38;5;124;43m\"\u001b[39;49m\u001b[38;5;124;43mtext-4xl font-bold\u001b[39;49m\u001b[38;5;124;43m\"\u001b[39;49m\u001b[43m)\u001b[49m\u001b[38;5;241;43m.\u001b[39;49m\u001b[43mtext\u001b[49m\n\u001b[0;32m     12\u001b[0m \u001b[38;5;28mprint\u001b[39m(name)\n\u001b[0;32m     14\u001b[0m key \u001b[38;5;241m=\u001b[39m soup\u001b[38;5;241m.\u001b[39mfind(\u001b[38;5;124m\"\u001b[39m\u001b[38;5;124mdd\u001b[39m\u001b[38;5;124m\"\u001b[39m, class_\u001b[38;5;241m=\u001b[39m\u001b[38;5;124m\"\u001b[39m\u001b[38;5;124mmt-1 text-3xl font-semibold text-gray-900\u001b[39m\u001b[38;5;124m\"\u001b[39m)\u001b[38;5;241m.\u001b[39mtext\n",
      "\u001b[1;31mAttributeError\u001b[0m: 'NoneType' object has no attribute 'text'"
     ]
    }
   ],
   "source": [
    "want_bpm = 162\n",
    "bpm_range = [162+10, 162-10]\n",
    "key = \"G\"\n",
    "\n",
    "playlist = [{\"artist\": [\"jay-z\"], \"song\": \"empire-state-of-mind\"}, {\"artist\": [\"avril-lavigne\"], \"song\": \"girlfriend\"}, {'song': 'Daisy 2.0 (feat. Hatsune Miku)', 'artist': ['Ashnikko', 'Hatsune Miku']}]\n",
    "songlist = []\n",
    "\n",
    "for i in playlist:\n",
    "    artist = i[\"artist\"][0]\n",
    "    song = i[\"song\"]\n",
    "    \n",
    "    source = requests.get(f\"https://songbpm.com/@{artist}/{song}\").text\n",
    "    soup = BeautifulSoup(source, \"lxml\")\n",
    "\n",
    "    name = soup.find(\"h1\", class_=\"text-4xl font-bold\").text\n",
    "    print(name)\n",
    "\n",
    "    key = soup.find(\"dd\", class_=\"mt-1 text-3xl font-semibold text-gray-900\").text\n",
    "    print(key)\n",
    "\n",
    "    bpm = soup.find(\"dd\", class_=\"mt-1 flex flex-row items-center justify-center gap-x-2 text-3xl font-semibold text-gray-900\").text.strip(\"BPM\")\n",
    "    print(bpm)"
   ]
  },
  {
   "cell_type": "code",
   "execution_count": null,
   "id": "3b79f9e1",
   "metadata": {},
   "outputs": [],
   "source": []
  }
 ],
 "metadata": {
  "kernelspec": {
   "display_name": "Python 3 (ipykernel)",
   "language": "python",
   "name": "python3"
  },
  "language_info": {
   "codemirror_mode": {
    "name": "ipython",
    "version": 3
   },
   "file_extension": ".py",
   "mimetype": "text/x-python",
   "name": "python",
   "nbconvert_exporter": "python",
   "pygments_lexer": "ipython3",
   "version": "3.9.12"
  }
 },
 "nbformat": 4,
 "nbformat_minor": 5
}
