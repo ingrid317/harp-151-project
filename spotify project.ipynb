{
 "cells": [
  {
   "cell_type": "code",
   "execution_count": 14,
   "id": "63247f7b",
   "metadata": {},
   "outputs": [],
   "source": [
    "client_id = \"06c6933b29ed4802821fc71572441115\"\n",
    "client_secret = \"b9d14ecb121d490d98c9910890ef7dea\""
   ]
  },
  {
   "cell_type": "code",
   "execution_count": 27,
   "id": "fd6f6530",
   "metadata": {},
   "outputs": [
    {
     "name": "stdout",
     "output_type": "stream",
     "text": [
      "Collecting spotipy\n",
      "  Downloading spotipy-2.23.0-py3-none-any.whl (29 kB)\n",
      "Requirement already satisfied: urllib3>=1.26.0 in c:\\users\\yinin\\anaconda3\\lib\\site-packages (from spotipy) (1.26.9)\n",
      "Requirement already satisfied: six>=1.15.0 in c:\\users\\yinin\\anaconda3\\lib\\site-packages (from spotipy) (1.16.0)\n",
      "Collecting redis>=3.5.3\n",
      "  Downloading redis-4.5.4-py3-none-any.whl (238 kB)\n",
      "Requirement already satisfied: requests>=2.25.0 in c:\\users\\yinin\\anaconda3\\lib\\site-packages (from spotipy) (2.27.1)\n",
      "Collecting async-timeout>=4.0.2\n",
      "  Downloading async_timeout-4.0.2-py3-none-any.whl (5.8 kB)\n",
      "Requirement already satisfied: charset-normalizer~=2.0.0 in c:\\users\\yinin\\anaconda3\\lib\\site-packages (from requests>=2.25.0->spotipy) (2.0.4)\n",
      "Requirement already satisfied: certifi>=2017.4.17 in c:\\users\\yinin\\anaconda3\\lib\\site-packages (from requests>=2.25.0->spotipy) (2021.10.8)\n",
      "Requirement already satisfied: idna<4,>=2.5 in c:\\users\\yinin\\anaconda3\\lib\\site-packages (from requests>=2.25.0->spotipy) (3.3)\n",
      "Installing collected packages: async-timeout, redis, spotipy\n",
      "  Attempting uninstall: async-timeout\n",
      "    Found existing installation: async-timeout 4.0.1\n",
      "    Uninstalling async-timeout-4.0.1:\n",
      "      Successfully uninstalled async-timeout-4.0.1\n",
      "Successfully installed async-timeout-4.0.2 redis-4.5.4 spotipy-2.23.0\n"
     ]
    }
   ],
   "source": [
    "!pip install spotipy"
   ]
  },
  {
   "cell_type": "code",
   "execution_count": 28,
   "id": "4c3bc20d",
   "metadata": {},
   "outputs": [],
   "source": [
    "import base64\n",
    "import requests\n",
    "import base64\n",
    "import json\n",
    "import spotipy\n",
    "import sys\n",
    "from spotipy.oauth2 import SpotifyClientCredentials"
   ]
  },
  {
   "cell_type": "code",
   "execution_count": 8,
   "id": "4a56d1a2",
   "metadata": {},
   "outputs": [
    {
     "name": "stdout",
     "output_type": "stream",
     "text": [
      "BQB9LA8eqHCBRZHbsfBrrI95Bu4SF4Jx0z2KfY4aiXhZJM-fppvCqvxLgpgfUFlcWKYssjZ65J8GDc1N7vJBmmRsUY9lFRimAv65EnQq7Dbr43ELxe9N\n"
     ]
    }
   ],
   "source": [
    "import base64\n",
    "import requests\n",
    "import base64\n",
    "import json\n",
    "def get_token(client_id, client_secret):\n",
    "    auth_string = client_id + \":\" + client_secret\n",
    "    auth_bytes = auth_string.encode(\"utf-8\")\n",
    "    auth_base64 = base64.b64encode(auth_bytes).decode(\"utf-8\")\n",
    "\n",
    "    url = \"https://accounts.spotify.com/api/token\"\n",
    "\n",
    "    headers = {\n",
    "        \"Authorization\": \"Basic \" + auth_base64,\n",
    "        \"Content-Type\": \"application/x-www-form-urlencoded\"\n",
    "    }\n",
    "    data = {\"grant_type\": \"client_credentials\"}\n",
    "    result = requests.post(url, headers=headers, data=data)\n",
    "    json_result = json.loads(result.content)\n",
    "    token = json_result[\"access_token\"]\n",
    "    return token\n",
    "\n",
    "cid = \"06c6933b29ed4802821fc71572441115\"\n",
    "csecret = \"b9d14ecb121d490d98c9910890ef7dea\"\n",
    "token = get_token(cid, csecret)\n",
    "print(token)"
   ]
  },
  {
   "cell_type": "code",
   "execution_count": null,
   "id": "73274179",
   "metadata": {},
   "outputs": [],
   "source": [
    "#playlist->get song and artist\n",
    "#6iGHel3ABNWuHU6253hyXq"
   ]
  },
  {
   "cell_type": "code",
   "execution_count": 37,
   "id": "9d15e61b",
   "metadata": {
    "scrolled": true
   },
   "outputs": [
    {
     "name": "stdout",
     "output_type": "stream",
     "text": [
      "Playlist Name: playlist to hype me up <3\n",
      "Description: \n",
      "Number of Tracks: 34\n",
      "song: jealousy, jealousy\n",
      "artist: Olivia Rodrigo\n",
      "song: Wait a Minute!\n",
      "artist: WILLOW\n",
      "song: Get Into It (Yuh)\n",
      "artist: Doja Cat\n",
      "song: Look What You Made Me Do\n",
      "artist: Taylor Swift\n",
      "song: Wildest Dreams (Taylor's Version)\n",
      "artist: Taylor Swift\n",
      "song: INFERNO\n",
      "artist: Sub Urban\n",
      "artist: Bella Poarch\n",
      "song: good 4 u\n",
      "artist: Olivia Rodrigo\n",
      "song: Dangerous Woman\n",
      "artist: Ariana Grande\n",
      "song: Toxic\n",
      "artist: Britney Spears\n",
      "song: 7 rings\n",
      "artist: Ariana Grande\n",
      "song: I Did Something Bad\n",
      "artist: Taylor Swift\n",
      "song: positions\n",
      "artist: Ariana Grande\n",
      "song: because i liked a boy\n",
      "artist: Sabrina Carpenter\n",
      "song: Don’t Blame Me\n",
      "artist: Taylor Swift\n",
      "song: Circus\n",
      "artist: Britney Spears\n",
      "song: You Belong With Me (Taylor’s Version)\n",
      "artist: Taylor Swift\n",
      "song: If U Seek Amy\n",
      "artist: Britney Spears\n",
      "song: Bad Romance\n",
      "artist: Lady Gaga\n",
      "song: Truth Hurts\n",
      "artist: Lizzo\n",
      "song: How You Like That\n",
      "artist: BLACKPINK\n",
      "song: Boyfriend\n",
      "artist: Dove Cameron\n",
      "song: Meant to Be Yours\n",
      "artist: Ryan McCartan\n",
      "artist: Barrett Wilbert Weed\n",
      "artist: Michelle Duffy\n",
      "song: brutal\n",
      "artist: Olivia Rodrigo\n",
      "song: Woman\n",
      "artist: Doja Cat\n",
      "song: Dead To Me\n",
      "artist: Kali Uchis\n",
      "song: telepatía\n",
      "artist: Kali Uchis\n",
      "song: MONEY\n",
      "artist: LISA\n",
      "song: Happier Than Ever - Edit\n",
      "artist: Billie Eilish\n",
      "song: Juice\n",
      "artist: Lizzo\n",
      "song: Worm Song\n",
      "artist: Sunny Side Down\n",
      "song: Gimme More\n",
      "artist: Britney Spears\n",
      "song: Pacify Her\n",
      "artist: Melanie Martinez\n",
      "song: Daisy 2.0 (feat. Hatsune Miku)\n",
      "artist: Ashnikko\n",
      "artist: Hatsune Miku\n",
      "song: Eddie Baby\n",
      "artist: Felix Hagan & the Family\n"
     ]
    }
   ],
   "source": [
    "playlist_id = \"6iGHel3ABNWuHU6253hyXq\"\n",
    "def get_auth_header(token):\n",
    "    return {'Authorization': 'Bearer ' + token}\n",
    "    \n",
    "def get_playlist_info(token, playlist_id):\n",
    "    \n",
    "    headers = get_auth_header(token)\n",
    "    response = requests.get(f'https://api.spotify.com/v1/playlists/{playlist_id}', headers=headers)\n",
    "    playlist_data = response.json()\n",
    "    print(f\"Playlist Name: {playlist_data['name']}\")\n",
    "    print(f\"Description: {playlist_data['description']}\")\n",
    "    print(f\"Number of Tracks: {playlist_data['tracks']['total']}\")\n",
    "\n",
    "    for i in items:\n",
    "        name = i[\"track\"][\"name\"]\n",
    "        print(f\"song: {name}\")\n",
    "        artists = i[\"track\"][\"artists\"]\n",
    "        \n",
    "        for i in artists:\n",
    "            artist = i[\"name\"]\n",
    "            print(f\"artist: {artist}\")\n",
    "    \n",
    "get_playlist_info(token,playlist_id)"
   ]
  },
  {
   "cell_type": "code",
   "execution_count": null,
   "id": "be3aabba",
   "metadata": {},
   "outputs": [],
   "source": []
  }
 ],
 "metadata": {
  "kernelspec": {
   "display_name": "Python 3 (ipykernel)",
   "language": "python",
   "name": "python3"
  },
  "language_info": {
   "codemirror_mode": {
    "name": "ipython",
    "version": 3
   },
   "file_extension": ".py",
   "mimetype": "text/x-python",
   "name": "python",
   "nbconvert_exporter": "python",
   "pygments_lexer": "ipython3",
   "version": "3.9.12"
  }
 },
 "nbformat": 4,
 "nbformat_minor": 5
}
